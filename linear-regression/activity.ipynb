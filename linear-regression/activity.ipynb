{
 "cells": [
  {
   "cell_type": "markdown",
   "metadata": {},
   "source": [
    "# Linear Regression\n",
    "This is a short demo of performing a linear regression in Python. It uses the `advertising` data from [this book](http://www-bcf.usc.edu/~gareth/ISL/data.html)."
   ]
  },
  {
   "cell_type": "markdown",
   "metadata": {},
   "source": [
    "# Set up"
   ]
  },
  {
   "cell_type": "code",
   "execution_count": 1,
<<<<<<< HEAD
   "metadata": {
    "collapsed": true
   },
=======
   "metadata": {},
>>>>>>> eeb74e56fdf96ec83a4662b8481dccc2fda3c997
   "outputs": [],
   "source": [
    "# Set up\n",
    "import numpy as np\n",
    "import pandas as pd\n",
    "import seaborn as sns # for visualiation\n",
    "from scipy import stats # ANOVA\n",
    "from scipy.stats import ttest_ind # t-tests\n",
    "import statsmodels.formula.api as smf # linear modeling\n",
    "import matplotlib.pyplot as plt # plotting\n",
    "import matplotlib\n",
    "matplotlib.style.use('ggplot')\n",
    "%matplotlib inline "
   ]
  },
  {
   "cell_type": "code",
<<<<<<< HEAD
   "execution_count": 2,
=======
   "execution_count": 8,
>>>>>>> eeb74e56fdf96ec83a4662b8481dccc2fda3c997
   "metadata": {},
   "outputs": [
    {
     "data": {
      "text/html": [
       "<div>\n",
       "<style>\n",
       "    .dataframe thead tr:only-child th {\n",
       "        text-align: right;\n",
       "    }\n",
       "\n",
       "    .dataframe thead th {\n",
       "        text-align: left;\n",
       "    }\n",
       "\n",
       "    .dataframe tbody tr th {\n",
       "        vertical-align: top;\n",
       "    }\n",
       "</style>\n",
       "<table border=\"1\" class=\"dataframe\">\n",
       "  <thead>\n",
       "    <tr style=\"text-align: right;\">\n",
       "      <th></th>\n",
       "      <th>Unnamed: 0</th>\n",
       "      <th>TV</th>\n",
       "      <th>radio</th>\n",
       "      <th>newspaper</th>\n",
       "      <th>sales</th>\n",
       "    </tr>\n",
       "  </thead>\n",
       "  <tbody>\n",
       "    <tr>\n",
       "      <th>count</th>\n",
       "      <td>200.000000</td>\n",
       "      <td>200.000000</td>\n",
       "      <td>200.000000</td>\n",
       "      <td>200.000000</td>\n",
       "      <td>200.000000</td>\n",
       "    </tr>\n",
       "    <tr>\n",
       "      <th>mean</th>\n",
       "      <td>100.500000</td>\n",
       "      <td>147.042500</td>\n",
       "      <td>23.264000</td>\n",
       "      <td>30.554000</td>\n",
       "      <td>14.022500</td>\n",
       "    </tr>\n",
       "    <tr>\n",
       "      <th>std</th>\n",
       "      <td>57.879185</td>\n",
       "      <td>85.854236</td>\n",
       "      <td>14.846809</td>\n",
       "      <td>21.778621</td>\n",
       "      <td>5.217457</td>\n",
       "    </tr>\n",
       "    <tr>\n",
       "      <th>min</th>\n",
       "      <td>1.000000</td>\n",
       "      <td>0.700000</td>\n",
       "      <td>0.000000</td>\n",
       "      <td>0.300000</td>\n",
       "      <td>1.600000</td>\n",
       "    </tr>\n",
       "    <tr>\n",
       "      <th>25%</th>\n",
       "      <td>50.750000</td>\n",
       "      <td>74.375000</td>\n",
       "      <td>9.975000</td>\n",
       "      <td>12.750000</td>\n",
       "      <td>10.375000</td>\n",
       "    </tr>\n",
       "    <tr>\n",
       "      <th>50%</th>\n",
       "      <td>100.500000</td>\n",
       "      <td>149.750000</td>\n",
       "      <td>22.900000</td>\n",
       "      <td>25.750000</td>\n",
       "      <td>12.900000</td>\n",
       "    </tr>\n",
       "    <tr>\n",
       "      <th>75%</th>\n",
       "      <td>150.250000</td>\n",
       "      <td>218.825000</td>\n",
       "      <td>36.525000</td>\n",
       "      <td>45.100000</td>\n",
       "      <td>17.400000</td>\n",
       "    </tr>\n",
       "    <tr>\n",
       "      <th>max</th>\n",
       "      <td>200.000000</td>\n",
       "      <td>296.400000</td>\n",
       "      <td>49.600000</td>\n",
       "      <td>114.000000</td>\n",
       "      <td>27.000000</td>\n",
       "    </tr>\n",
       "  </tbody>\n",
       "</table>\n",
       "</div>"
      ],
      "text/plain": [
       "       Unnamed: 0          TV       radio   newspaper       sales\n",
       "count  200.000000  200.000000  200.000000  200.000000  200.000000\n",
       "mean   100.500000  147.042500   23.264000   30.554000   14.022500\n",
       "std     57.879185   85.854236   14.846809   21.778621    5.217457\n",
       "min      1.000000    0.700000    0.000000    0.300000    1.600000\n",
       "25%     50.750000   74.375000    9.975000   12.750000   10.375000\n",
       "50%    100.500000  149.750000   22.900000   25.750000   12.900000\n",
       "75%    150.250000  218.825000   36.525000   45.100000   17.400000\n",
       "max    200.000000  296.400000   49.600000  114.000000   27.000000"
      ]
     },
<<<<<<< HEAD
     "execution_count": 2,
=======
     "execution_count": 8,
>>>>>>> eeb74e56fdf96ec83a4662b8481dccc2fda3c997
     "metadata": {},
     "output_type": "execute_result"
    }
   ],
   "source": [
    "# Load the data\n",
    "advertising = pd.read_csv('data/Advertising.csv')\n",
    "advertising.describe()"
   ]
  },
  {
   "cell_type": "markdown",
   "metadata": {},
   "source": [
    "# Exploratory Analysis"
   ]
  },
  {
   "cell_type": "code",
<<<<<<< HEAD
   "execution_count": 3,
   "metadata": {},
   "outputs": [],
   "source": [
    "# What is the distrubution of sales?"
=======
   "execution_count": 18,
   "metadata": {},
   "outputs": [
    {
     "data": {
      "text/plain": [
       "array([[<matplotlib.axes._subplots.AxesSubplot object at 0x1a199d5e10>]], dtype=object)"
      ]
     },
     "execution_count": 18,
     "metadata": {},
     "output_type": "execute_result"
    },
    {
     "data": {
      "image/png": "iVBORw0KGgoAAAANSUhEUgAAAXQAAAEJCAYAAACE39xMAAAABHNCSVQICAgIfAhkiAAAAAlwSFlz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\nAAAASUVORK5CYII=\n",
      "text/plain": [
       "<matplotlib.figure.Figure at 0x1a165968d0>"
      ]
     },
     "metadata": {},
     "output_type": "display_data"
    }
   ],
   "source": [
    "# What is the distrubution of sales?\n",
    "advertising.hist('sales')"
>>>>>>> eeb74e56fdf96ec83a4662b8481dccc2fda3c997
   ]
  },
  {
   "cell_type": "code",
<<<<<<< HEAD
   "execution_count": 4,
   "metadata": {},
   "outputs": [],
   "source": [
    "# Does there appear to be a correlation between TV spending and sales?"
=======
   "execution_count": 19,
   "metadata": {},
   "outputs": [
    {
     "data": {
      "text/plain": [
       "<matplotlib.axes._subplots.AxesSubplot at 0x1a19a2b7b8>"
      ]
     },
     "execution_count": 19,
     "metadata": {},
     "output_type": "execute_result"
    },
    {
     "data": {
      "image/png": "iVBORw0KGgoAAAANSUhEUgAAAYUAAAENCAYAAADgwHn9AAAABHNCSVQICAgIfAhkiAAAAAlwSFlz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\nIiJS9f8BFv2ULA5WXV0AAAAASUVORK5CYII=\n",
      "text/plain": [
       "<matplotlib.figure.Figure at 0x1a19a496d8>"
      ]
     },
     "metadata": {},
     "output_type": "display_data"
    }
   ],
   "source": [
    "# Does there appear to be a correlation between TV spending and sales?\n",
    "advertising.plot('TV', 'sales', kind=\"scatter\")"
>>>>>>> eeb74e56fdf96ec83a4662b8481dccc2fda3c997
   ]
  },
  {
   "cell_type": "code",
<<<<<<< HEAD
   "execution_count": 5,
   "metadata": {},
   "outputs": [],
   "source": [
    "# Let's do this check for each independent variable"
=======
   "execution_count": 37,
   "metadata": {},
   "outputs": [
    {
     "data": {
      "image/png": "iVBORw0KGgoAAAANSUhEUgAABF8AAAHwCAYAAABwqMD4AAAABHNCSVQICAgIfAhkiAAAAAlwSFlz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\n8kWSJEmSJClD/x/DRVUUipfHQAAAAABJRU5ErkJggg==\n",
      "text/plain": [
       "<matplotlib.figure.Figure at 0x1a1a47a3c8>"
      ]
     },
     "metadata": {},
     "output_type": "display_data"
    }
   ],
   "source": [
    "# Let's do this check for each independent variable\n",
    "g = sns.PairGrid(advertising,\n",
    "                 x_vars=[\"TV\",'radio', 'newspaper'],\n",
    "                 y_vars=[\"sales\"],\n",
    "                 aspect=.75, size=7)\n",
    "g.map(plt.scatter)\n",
    "plt.show()"
>>>>>>> eeb74e56fdf96ec83a4662b8481dccc2fda3c997
   ]
  },
  {
   "cell_type": "markdown",
   "metadata": {},
   "source": [
    "# Simple linear regression\n",
    "What is the sales increase associated with each dollar increase in the radio budget?"
   ]
  },
  {
   "cell_type": "code",
<<<<<<< HEAD
   "execution_count": 6,
   "metadata": {
    "collapsed": true
   },
   "outputs": [],
   "source": [
    "# Create model\n"
=======
   "execution_count": 22,
   "metadata": {},
   "outputs": [],
   "source": [
    "# Create model\n",
    "lm = smf.ols(formula='sales ~ radio', data=advertising).fit()"
>>>>>>> eeb74e56fdf96ec83a4662b8481dccc2fda3c997
   ]
  },
  {
   "cell_type": "code",
<<<<<<< HEAD
   "execution_count": 7,
   "metadata": {},
   "outputs": [],
   "source": [
    "# Summarize the model results\n"
=======
   "execution_count": 25,
   "metadata": {},
   "outputs": [
    {
     "data": {
      "text/html": [
       "<table class=\"simpletable\">\n",
       "<caption>OLS Regression Results</caption>\n",
       "<tr>\n",
       "  <th>Dep. Variable:</th>          <td>sales</td>      <th>  R-squared:         </th> <td>   0.332</td>\n",
       "</tr>\n",
       "<tr>\n",
       "  <th>Model:</th>                   <td>OLS</td>       <th>  Adj. R-squared:    </th> <td>   0.329</td>\n",
       "</tr>\n",
       "<tr>\n",
       "  <th>Method:</th>             <td>Least Squares</td>  <th>  F-statistic:       </th> <td>   98.42</td>\n",
       "</tr>\n",
       "<tr>\n",
       "  <th>Date:</th>             <td>Mon, 29 Jan 2018</td> <th>  Prob (F-statistic):</th> <td>4.35e-19</td>\n",
       "</tr>\n",
       "<tr>\n",
       "  <th>Time:</th>                 <td>19:16:50</td>     <th>  Log-Likelihood:    </th> <td> -573.34</td>\n",
       "</tr>\n",
       "<tr>\n",
       "  <th>No. Observations:</th>      <td>   200</td>      <th>  AIC:               </th> <td>   1151.</td>\n",
       "</tr>\n",
       "<tr>\n",
       "  <th>Df Residuals:</th>          <td>   198</td>      <th>  BIC:               </th> <td>   1157.</td>\n",
       "</tr>\n",
       "<tr>\n",
       "  <th>Df Model:</th>              <td>     1</td>      <th>                     </th>     <td> </td>   \n",
       "</tr>\n",
       "<tr>\n",
       "  <th>Covariance Type:</th>      <td>nonrobust</td>    <th>                     </th>     <td> </td>   \n",
       "</tr>\n",
       "</table>\n",
       "<table class=\"simpletable\">\n",
       "<tr>\n",
       "      <td></td>         <th>coef</th>     <th>std err</th>      <th>t</th>      <th>P>|t|</th>  <th>[0.025</th>    <th>0.975]</th>  \n",
       "</tr>\n",
       "<tr>\n",
       "  <th>Intercept</th> <td>    9.3116</td> <td>    0.563</td> <td>   16.542</td> <td> 0.000</td> <td>    8.202</td> <td>   10.422</td>\n",
       "</tr>\n",
       "<tr>\n",
       "  <th>radio</th>     <td>    0.2025</td> <td>    0.020</td> <td>    9.921</td> <td> 0.000</td> <td>    0.162</td> <td>    0.243</td>\n",
       "</tr>\n",
       "</table>\n",
       "<table class=\"simpletable\">\n",
       "<tr>\n",
       "  <th>Omnibus:</th>       <td>19.358</td> <th>  Durbin-Watson:     </th> <td>   1.946</td>\n",
       "</tr>\n",
       "<tr>\n",
       "  <th>Prob(Omnibus):</th> <td> 0.000</td> <th>  Jarque-Bera (JB):  </th> <td>  21.910</td>\n",
       "</tr>\n",
       "<tr>\n",
       "  <th>Skew:</th>          <td>-0.764</td> <th>  Prob(JB):          </th> <td>1.75e-05</td>\n",
       "</tr>\n",
       "<tr>\n",
       "  <th>Kurtosis:</th>      <td> 3.544</td> <th>  Cond. No.          </th> <td>    51.4</td>\n",
       "</tr>\n",
       "</table>"
      ],
      "text/plain": [
       "<class 'statsmodels.iolib.summary.Summary'>\n",
       "\"\"\"\n",
       "                            OLS Regression Results                            \n",
       "==============================================================================\n",
       "Dep. Variable:                  sales   R-squared:                       0.332\n",
       "Model:                            OLS   Adj. R-squared:                  0.329\n",
       "Method:                 Least Squares   F-statistic:                     98.42\n",
       "Date:                Mon, 29 Jan 2018   Prob (F-statistic):           4.35e-19\n",
       "Time:                        19:16:50   Log-Likelihood:                -573.34\n",
       "No. Observations:                 200   AIC:                             1151.\n",
       "Df Residuals:                     198   BIC:                             1157.\n",
       "Df Model:                           1                                         \n",
       "Covariance Type:            nonrobust                                         \n",
       "==============================================================================\n",
       "                 coef    std err          t      P>|t|      [0.025      0.975]\n",
       "------------------------------------------------------------------------------\n",
       "Intercept      9.3116      0.563     16.542      0.000       8.202      10.422\n",
       "radio          0.2025      0.020      9.921      0.000       0.162       0.243\n",
       "==============================================================================\n",
       "Omnibus:                       19.358   Durbin-Watson:                   1.946\n",
       "Prob(Omnibus):                  0.000   Jarque-Bera (JB):               21.910\n",
       "Skew:                          -0.764   Prob(JB):                     1.75e-05\n",
       "Kurtosis:                       3.544   Cond. No.                         51.4\n",
       "==============================================================================\n",
       "\n",
       "Warnings:\n",
       "[1] Standard Errors assume that the covariance matrix of the errors is correctly specified.\n",
       "\"\"\""
      ]
     },
     "execution_count": 25,
     "metadata": {},
     "output_type": "execute_result"
    }
   ],
   "source": [
    "# Summarize the model results\n",
    "lm.summary()"
>>>>>>> eeb74e56fdf96ec83a4662b8481dccc2fda3c997
   ]
  },
  {
   "cell_type": "markdown",
   "metadata": {},
   "source": [
    "Assess the fit of your model:\n",
    "\n",
    "- Describe the _accuracy of your coefficient estimates_. What are your interpretations of the **betas**, their **standard errors**, and their **confidence intervals** for your model?\n",
    "- Describe the _accuracy of your model_. What is your interpretation of the **R-squared** value?"
   ]
  },
  {
   "cell_type": "code",
<<<<<<< HEAD
   "execution_count": 8,
   "metadata": {
    "collapsed": true
   },
   "outputs": [],
   "source": [
    "# Create a `simple_pred` column of your dataframe by making predictions from your linear model\n"
=======
   "execution_count": 26,
   "metadata": {},
   "outputs": [],
   "source": [
    "# Create a `simple_pred` column of your dataframe by making predictions from your linear model\n",
    "advertising['simple_pred'] = lm.predict()"
>>>>>>> eeb74e56fdf96ec83a4662b8481dccc2fda3c997
   ]
  },
  {
   "cell_type": "code",
<<<<<<< HEAD
   "execution_count": 9,
   "metadata": {},
   "outputs": [],
   "source": [
    "# Visually compare your predictions to the actual data\n"
=======
   "execution_count": 29,
   "metadata": {},
   "outputs": [
    {
     "data": {
      "text/plain": [
       "<matplotlib.axes._subplots.AxesSubplot at 0x1a1a50c780>"
      ]
     },
     "execution_count": 29,
     "metadata": {},
     "output_type": "execute_result"
    },
    {
     "data": {
      "image/png": "iVBORw0KGgoAAAANSUhEUgAAAYUAAAENCAYAAADgwHn9AAAABHNCSVQICAgIfAhkiAAAAAlwSFlz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\nFauymwAAAABJRU5ErkJggg==\n",
      "text/plain": [
       "<matplotlib.figure.Figure at 0x1a1a5204e0>"
      ]
     },
     "metadata": {},
     "output_type": "display_data"
    }
   ],
   "source": [
    "# Visually compare your predictions to the actual data\n",
    "advertising.plot('sales', 'simple_pred', kind=\"scatter\")"
>>>>>>> eeb74e56fdf96ec83a4662b8481dccc2fda3c997
   ]
  },
  {
   "cell_type": "code",
<<<<<<< HEAD
   "execution_count": 10,
   "metadata": {},
   "outputs": [],
   "source": [
    "# What is the distrubution of the residuals?\n"
=======
   "execution_count": 33,
   "metadata": {},
   "outputs": [
    {
     "data": {
      "image/png": "iVBORw0KGgoAAAANSUhEUgAAAXQAAAEJCAYAAACE39xMAAAABHNCSVQICAgIfAhkiAAAAAlwSFlz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\n",
      "text/plain": [
       "<matplotlib.figure.Figure at 0x1a1a4ca208>"
      ]
     },
     "metadata": {},
     "output_type": "display_data"
    }
   ],
   "source": [
    "# What is the distrubution of the residuals?\n",
    "advertising['simple_resids'] = advertising.sales -advertising.simple_pred\n",
    "advertising.hist('simple_resids')\n",
    "plt.show()"
>>>>>>> eeb74e56fdf96ec83a4662b8481dccc2fda3c997
   ]
  },
  {
   "cell_type": "markdown",
   "metadata": {},
   "source": [
    "# Multiple Regression\n",
    "Let's build a model of all 3 predictors (`TV`, `radio`, and `newspaper`) and see how much **variance** we can explain in our outcome."
   ]
  },
  {
   "cell_type": "code",
<<<<<<< HEAD
   "execution_count": 11,
   "metadata": {
    "collapsed": true
   },
   "outputs": [],
   "source": [
    "# Create a model"
=======
   "execution_count": 35,
   "metadata": {},
   "outputs": [],
   "source": [
    "# Create a model\n",
    "full_model =  smf.ols(formula='sales ~ radio + TV + newspaper', data=advertising).fit()"
>>>>>>> eeb74e56fdf96ec83a4662b8481dccc2fda3c997
   ]
  },
  {
   "cell_type": "code",
<<<<<<< HEAD
   "execution_count": 12,
   "metadata": {},
   "outputs": [],
   "source": [
    "# Summarize the model"
=======
   "execution_count": 36,
   "metadata": {},
   "outputs": [
    {
     "data": {
      "text/html": [
       "<table class=\"simpletable\">\n",
       "<caption>OLS Regression Results</caption>\n",
       "<tr>\n",
       "  <th>Dep. Variable:</th>          <td>sales</td>      <th>  R-squared:         </th> <td>   0.897</td>\n",
       "</tr>\n",
       "<tr>\n",
       "  <th>Model:</th>                   <td>OLS</td>       <th>  Adj. R-squared:    </th> <td>   0.896</td>\n",
       "</tr>\n",
       "<tr>\n",
       "  <th>Method:</th>             <td>Least Squares</td>  <th>  F-statistic:       </th> <td>   570.3</td>\n",
       "</tr>\n",
       "<tr>\n",
       "  <th>Date:</th>             <td>Mon, 29 Jan 2018</td> <th>  Prob (F-statistic):</th> <td>1.58e-96</td>\n",
       "</tr>\n",
       "<tr>\n",
       "  <th>Time:</th>                 <td>19:23:05</td>     <th>  Log-Likelihood:    </th> <td> -386.18</td>\n",
       "</tr>\n",
       "<tr>\n",
       "  <th>No. Observations:</th>      <td>   200</td>      <th>  AIC:               </th> <td>   780.4</td>\n",
       "</tr>\n",
       "<tr>\n",
       "  <th>Df Residuals:</th>          <td>   196</td>      <th>  BIC:               </th> <td>   793.6</td>\n",
       "</tr>\n",
       "<tr>\n",
       "  <th>Df Model:</th>              <td>     3</td>      <th>                     </th>     <td> </td>   \n",
       "</tr>\n",
       "<tr>\n",
       "  <th>Covariance Type:</th>      <td>nonrobust</td>    <th>                     </th>     <td> </td>   \n",
       "</tr>\n",
       "</table>\n",
       "<table class=\"simpletable\">\n",
       "<tr>\n",
       "      <td></td>         <th>coef</th>     <th>std err</th>      <th>t</th>      <th>P>|t|</th>  <th>[0.025</th>    <th>0.975]</th>  \n",
       "</tr>\n",
       "<tr>\n",
       "  <th>Intercept</th> <td>    2.9389</td> <td>    0.312</td> <td>    9.422</td> <td> 0.000</td> <td>    2.324</td> <td>    3.554</td>\n",
       "</tr>\n",
       "<tr>\n",
       "  <th>radio</th>     <td>    0.1885</td> <td>    0.009</td> <td>   21.893</td> <td> 0.000</td> <td>    0.172</td> <td>    0.206</td>\n",
       "</tr>\n",
       "<tr>\n",
       "  <th>TV</th>        <td>    0.0458</td> <td>    0.001</td> <td>   32.809</td> <td> 0.000</td> <td>    0.043</td> <td>    0.049</td>\n",
       "</tr>\n",
       "<tr>\n",
       "  <th>newspaper</th> <td>   -0.0010</td> <td>    0.006</td> <td>   -0.177</td> <td> 0.860</td> <td>   -0.013</td> <td>    0.011</td>\n",
       "</tr>\n",
       "</table>\n",
       "<table class=\"simpletable\">\n",
       "<tr>\n",
       "  <th>Omnibus:</th>       <td>60.414</td> <th>  Durbin-Watson:     </th> <td>   2.084</td>\n",
       "</tr>\n",
       "<tr>\n",
       "  <th>Prob(Omnibus):</th> <td> 0.000</td> <th>  Jarque-Bera (JB):  </th> <td> 151.241</td>\n",
       "</tr>\n",
       "<tr>\n",
       "  <th>Skew:</th>          <td>-1.327</td> <th>  Prob(JB):          </th> <td>1.44e-33</td>\n",
       "</tr>\n",
       "<tr>\n",
       "  <th>Kurtosis:</th>      <td> 6.332</td> <th>  Cond. No.          </th> <td>    454.</td>\n",
       "</tr>\n",
       "</table>"
      ],
      "text/plain": [
       "<class 'statsmodels.iolib.summary.Summary'>\n",
       "\"\"\"\n",
       "                            OLS Regression Results                            \n",
       "==============================================================================\n",
       "Dep. Variable:                  sales   R-squared:                       0.897\n",
       "Model:                            OLS   Adj. R-squared:                  0.896\n",
       "Method:                 Least Squares   F-statistic:                     570.3\n",
       "Date:                Mon, 29 Jan 2018   Prob (F-statistic):           1.58e-96\n",
       "Time:                        19:23:05   Log-Likelihood:                -386.18\n",
       "No. Observations:                 200   AIC:                             780.4\n",
       "Df Residuals:                     196   BIC:                             793.6\n",
       "Df Model:                           3                                         \n",
       "Covariance Type:            nonrobust                                         \n",
       "==============================================================================\n",
       "                 coef    std err          t      P>|t|      [0.025      0.975]\n",
       "------------------------------------------------------------------------------\n",
       "Intercept      2.9389      0.312      9.422      0.000       2.324       3.554\n",
       "radio          0.1885      0.009     21.893      0.000       0.172       0.206\n",
       "TV             0.0458      0.001     32.809      0.000       0.043       0.049\n",
       "newspaper     -0.0010      0.006     -0.177      0.860      -0.013       0.011\n",
       "==============================================================================\n",
       "Omnibus:                       60.414   Durbin-Watson:                   2.084\n",
       "Prob(Omnibus):                  0.000   Jarque-Bera (JB):              151.241\n",
       "Skew:                          -1.327   Prob(JB):                     1.44e-33\n",
       "Kurtosis:                       6.332   Cond. No.                         454.\n",
       "==============================================================================\n",
       "\n",
       "Warnings:\n",
       "[1] Standard Errors assume that the covariance matrix of the errors is correctly specified.\n",
       "\"\"\""
      ]
     },
     "execution_count": 36,
     "metadata": {},
     "output_type": "execute_result"
    }
   ],
   "source": [
    "# Summarize the model\n",
    "full_model.summary()"
>>>>>>> eeb74e56fdf96ec83a4662b8481dccc2fda3c997
   ]
  },
  {
   "cell_type": "markdown",
   "metadata": {},
   "source": [
    "Assess the fit of your model:\n",
    "\n",
    "- Describe the _accuracy of your coefficient estimates_. What are your interpretations of the **betas**, their **standard errors**, and their **confidence intervals** for your model?\n",
    "- Describe the _accuracy of your model_. What is your interpretation of the **R-squared** value?"
   ]
  },
  {
   "cell_type": "code",
<<<<<<< HEAD
   "execution_count": 13,
   "metadata": {
    "collapsed": true
   },
   "outputs": [],
   "source": [
    "# Make predictions\n"
=======
   "execution_count": 38,
   "metadata": {},
   "outputs": [],
   "source": [
    "# Make predictions\n",
    "advertising['mult_predictions'] = full_model.predict()"
>>>>>>> eeb74e56fdf96ec83a4662b8481dccc2fda3c997
   ]
  },
  {
   "cell_type": "code",
<<<<<<< HEAD
   "execution_count": 14,
   "metadata": {},
   "outputs": [],
   "source": [
    "# Visualize results\n"
=======
   "execution_count": 56,
   "metadata": {},
   "outputs": [
    {
     "data": {
      "image/png": "iVBORw0KGgoAAAANSUhEUgAAAYUAAAENCAYAAADgwHn9AAAABHNCSVQICAgIfAhkiAAAAAlwSFlz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\nJbIAAAAASUVORK5CYII=\n",
      "text/plain": [
       "<matplotlib.figure.Figure at 0x1a1c6f7198>"
      ]
     },
     "metadata": {},
     "output_type": "display_data"
    }
   ],
   "source": [
    "# Visualize results\n",
    "advertising.plot('sales', 'mult_predictions', kind=\"scatter\")\n",
    "plt.plot(advertising.sales, advertising.sales)\n",
    "plt.show()"
>>>>>>> eeb74e56fdf96ec83a4662b8481dccc2fda3c997
   ]
  },
  {
   "cell_type": "code",
<<<<<<< HEAD
   "execution_count": 15,
   "metadata": {},
   "outputs": [],
   "source": [
    "# Plot sales against residuals"
=======
   "execution_count": 59,
   "metadata": {},
   "outputs": [
    {
     "data": {
      "text/plain": [
       "<matplotlib.lines.Line2D at 0x1a1cf19240>"
      ]
     },
     "execution_count": 59,
     "metadata": {},
     "output_type": "execute_result"
    },
    {
     "data": {
      "image/png": "iVBORw0KGgoAAAANSUhEUgAAAXYAAAD8CAYAAABjAo9vAAAABHNCSVQICAgIfAhkiAAAAAlwSFlz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\nRK5CYII=\n",
      "text/plain": [
       "<matplotlib.figure.Figure at 0x1a1cf19b38>"
      ]
     },
     "metadata": {},
     "output_type": "display_data"
    }
   ],
   "source": [
    "# Plot sales against residuals\n",
    "plt.scatter(advertising.sales, advertising.sales- advertising.mult_predictions)\n",
    "plt.axhline(0, color='red')\n"
>>>>>>> eeb74e56fdf96ec83a4662b8481dccc2fda3c997
   ]
  },
  {
   "cell_type": "code",
   "execution_count": null,
<<<<<<< HEAD
   "metadata": {
    "collapsed": true
   },
=======
   "metadata": {},
>>>>>>> eeb74e56fdf96ec83a4662b8481dccc2fda3c997
   "outputs": [],
   "source": []
  }
 ],
 "metadata": {
  "kernelspec": {
   "display_name": "Python 3",
   "language": "python",
   "name": "python3"
  },
  "language_info": {
   "codemirror_mode": {
    "name": "ipython",
    "version": 3
   },
   "file_extension": ".py",
   "mimetype": "text/x-python",
   "name": "python",
   "nbconvert_exporter": "python",
   "pygments_lexer": "ipython3",
   "version": "3.6.3"
  }
 },
 "nbformat": 4,
 "nbformat_minor": 2
}
